{
 "cells": [
  {
   "cell_type": "markdown",
   "metadata": {},
   "source": [
    "iphone 13 Pro Max:https://item.jd.com/100026667928.html\n",
    "\n",
    "- 判断网址类型：动态网址\n",
    "- 选择方法：逆向分析法；selenium"
   ]
  },
  {
   "cell_type": "code",
   "execution_count": 2,
   "metadata": {
    "ExecuteTime": {
     "end_time": "2023-06-18T11:59:53.019505Z",
     "start_time": "2023-06-18T11:59:52.769598Z"
    }
   },
   "outputs": [],
   "source": [
    "import requests \n",
    "import json\n",
    "import pandas as pd \n",
    "import time\n",
    "import numpy as np"
   ]
  },
  {
   "cell_type": "markdown",
   "metadata": {},
   "source": [
    "- 单页"
   ]
  },
  {
   "cell_type": "code",
   "execution_count": 3,
   "metadata": {
    "ExecuteTime": {
     "end_time": "2023-06-18T11:59:54.127492Z",
     "start_time": "2023-06-18T11:59:53.882480Z"
    }
   },
   "outputs": [],
   "source": [
    "# 真实网址\n",
    "url = 'https://club.jd.com/comment/productPageComments.action?callback=fetchJSON_comment98&productId=100026667928&score=0&sortType=5&page=0&pageSize=10&isShadowSku=0&fold=1'\n",
    "# 请求头\n",
    "headers = {'User-Agent': 'Mozilla/5.0 (Windows NT 10.0; Win64; x64) AppleWebKit/537.36 (KHTML, like Gecko) Chrome/99.0.4844.51 Safari/537.36'}\n",
    "# 发送请求\n",
    "rq = requests.get(url, headers=headers)  # 京东网站有User-Agent反爬\n",
    "html = rq.text  # 返回的是json文件"
   ]
  },
  {
   "cell_type": "code",
   "execution_count": 4,
   "metadata": {
    "ExecuteTime": {
     "end_time": "2023-06-18T11:59:55.376003Z",
     "start_time": "2023-06-18T11:59:55.359963Z"
    },
    "collapsed": true
   },
   "outputs": [
    {
     "data": {
      "text/plain": [
       "'fetchJSON_comment98({\"jwotestProduct\":null,\"score\":0,\"comments\":[{\"id\":18965200041,\"guid\":\"ab89661d968936c2b45b1feade779789\",\"content\":\"苹果十三是我用我最好的手机了，节前买了金色，蓝色，黑色，这次又忍不住真的活动买了绿色，还是他的刘海屏，看着顺眼，比那个14promax的什么灵动岛看着顺眼多了，绿色手机配蓝色壳子也很漂亮\",\"creationTime\":\"2023-03-30 16:16:29\",\"isDelete\":false,\"isTop\":false,\"userImageUrl\":\"storage.360buyimg.com/i.imageUpload/73756e6368616f313233343531333738393031333036383534_sma.jpg\",\"topped\":0,\"replies\":[],\"replyCount\":2,\"score\":5,\"imageStatus\":1,\"usefulVoteCount\":3,\"userClient\":2,\"discussionId\":1258714800,\"imageCount\":3,\"anonymousFlag\":1,\"plusAvailable\":201,\"mobileVersion\":\"11.6.6\",\"images\":[{\"id\":2093791901,\"imgUrl\":\"//img30.360buyimg.com/n0/s128x96_jfs/t1/217705/3/27141/34185/6425455cF001a2e03/c46fd8b6000f372c.jpg\",\"imgTitle\":\"\",\"status\":0},{\"id\":2093791902,\"imgUrl\":\"//img30.360buyimg.com/n0/s128x96_jfs/t1/2436/32/19441/37594/6425455cFe4955e1c/0b6b0589c4a0c8b6.jpg\",\"imgTitle\":\"\",\"status\":0},{\"id\":2093791903,\"imgUrl\":\"//img30.360buyimg.com/n0/s128x96_jfs/t1/33249/9/21489/38663/6425455cF353ed7e0/912bf55fffabe1c9.jpg\",\"imgTitle\":\"\",\"status\":0}],\"videos\":[{\"id\":2093791904,\"mainUrl\":\"https://jvod.300hu.com/img/2023/306707066/1/img5.jpg\",\"videoHeight\":960,\"videoWidth\":720,\"videoLength\":15,\"videoTitle\":\"\",\"videoUrl\":1027291679,\"videoId\":1027291679,\"status\":0,\"remark\":\"https://jvod.300hu.com/vod/product/f911bd32-4362-4f5e-b0bf-e261596345c5/ff8a0ed759d74479a30a3e3c1437c7a9.mp4?source=2&h265=h265/113393/b317c2b54cd84db897c6eda46b0d796b.mp4\"}],\"mergeOrderStatus\":2,\"productColor\":\"苍岭绿色\",\"productSize\":\"512GB\",\"textIntegral\":40,\"imageIntegral\":40,\"extMap\":{\"buyCount\":34},\"location\":\"山东\",\"status\":1,\"referenceId\":\"100019718281\",\"referenceTime\":\"2023-03-21 07:00:05\",\"nickname\":\"超***哈\",\"replyCount2\":4,\"userImage\":\"storage.360buyimg.com/i.imageUpload/73756e6368616f313233343531333738393031333036383534_sma.jpg\",\"orderId\":0,\"integral\":80,\"productSales\":\"[{\\\\\"dim\\\\\":3,\\\\\"saleName\\\\\":\\\\\"购买方式\\\\\",\\\\\"saleValue\\\\\":\\\\\"公开版\\\\\"}]\",\"referenceImage\":\"jfs/t1/111899/20/25621/37235/6231b3a0Ef79b8f01/b59706fd5e43e196.jpg\",\"referenceName\":\"Apple iPhone 13 Pro Max (A2644) 128GB 远峰蓝色 支持移动联通电信5G 双卡双待手机\",\"firstCategory\":9987,\"secondCategory\":653,\"thirdCategory\":655,\"aesPin\":null,\"days\":9,\"afterDays\":0},{\"id\":18925597885,\"guid\":\"047bbbdff8f2681125900a7ff25dd498\",\"content\":\"相比14pm还是觉得13pm顺眼点，不错屏幕很大，很流畅，希望能多用几年。\\\\n外形外观：酷\\\\n屏幕音效：好\\\\n拍照效果：高清\\\\n运行速度：快\\\\n待机时间：长\",\"vcontent\":\"相比14pm还是觉得13pm顺眼点，不错屏幕很大，很流畅，希望能多用几年。\\\\n{$%&外形外观：&%$}酷\\\\n{$%&屏幕音效：&%$}好\\\\n{$%&拍照效果：&%$}高清\\\\n{$%&运行速度：&%$}快\\\\n{$%&待机时间：&%$}长\",\"creationTime\":\"2023-03-21 17:59:36\",\"isDelete\":false,\"isTop\":false,\"userImageUrl\":\"storage.360buyimg.com/i.imageUpload/6a645f3738613363353661643234316331353435313237303936363230_sma.jpg\",\"topped\":0,\"replies\":[],\"replyCount\":1,\"score\":5,\"imageStatus\":1,\"usefulVoteCount\":2,\"userClient\":4,\"discussionId\":1254450248,\"imageCount\":2,\"anonymousFlag\":1,\"plusAvailable\":201,\"mobileVersion\":\"11.6.4\",\"images\":[{\"id\":2085519891,\"imgUrl\":\"//img30.360buyimg.com/n0/s128x96_jfs/t1/170589/36/36026/36717/64198007F3167ab59/bee0f7c832ded607.jpg\",\"imgTitle\":\"\",\"status\":0},{\"id\":2085519892,\"imgUrl\":\"//img30.360buyimg.com/n0/s128x96_jfs/t1/118333/2/30904/53831/64198007Fa3752058/50d11f99100d7462.jpg\",\"imgTitle\":\"\",\"status\":0}],\"mergeOrderStatus\":2,\"productColor\":\"石墨色\",\"productSize\":\"512GB\",\"textIntegral\":40,\"imageIntegral\":40,\"extMap\":{\"buyCount\":22},\"location\":\"山西\",\"status\":1,\"referenceId\":\"100026667948\",\"referenceTime\":\"2023-03-09 16:58:36\",\"nickname\":\"I***I\",\"replyCount2\":3,\"userImage\":\"storage.360buyimg.com/i.imageUpload/6a645f3738613363353661643234316331353435313237303936363230_sma.jpg\",\"orderId\":0,\"integral\":80,\"productSales\":\"[{\\\\\"dim\\\\\":3,\\\\\"saleName\\\\\":\\\\\"购买方式\\\\\",\\\\\"saleValue\\\\\":\\\\\"公开版\\\\\"}]\",\"referenceImage\":\"jfs/t1/111899/20/25621/37235/6231b3a0Ef79b8f01/b59706fd5e43e196.jpg\",\"referenceName\":\"Apple iPhone 13 Pro Max (A2644) 128GB 远峰蓝色 支持移动联通电信5G 双卡双待手机\",\"firstCategory\":9987,\"secondCategory\":653,\"thirdCategory\":655,\"aesPin\":null,\"days\":12,\"afterDays\":0},{\"id\":18980464152,\"guid\":\"cbbf15206e11900503f16498734c7ea3\",\"content\":\"苹果13promax的续航太给力，又回购了一个大内存的，屏幕显示很细腻，拍照很清晰，视频能力非常给力，不卡顿\",\"creationTime\":\"2023-04-03 12:03:42\",\"isDelete\":false,\"isTop\":false,\"userImageUrl\":\"storage.360buyimg.com/i.imageUpload/c8cbc0c77a6c31333936363939323337333639_sma.jpg\",\"topped\":0,\"replyCount\":0,\"score\":5,\"imageStatus\":1,\"usefulVoteCount\":1,\"userClient\":2,\"discussionId\":1260508366,\"imageCount\":0,\"anonymousFlag\":1,\"plusAvailable\":201,\"mobileVersion\":\"11.6.6\",\"images\":[],\"videos\":[{\"id\":2097251723,\"mainUrl\":\"https://jvod.300hu.com/img/2023/308706237/1/img7.jpg\",\"videoHeight\":720,\"videoWidth\":1280,\"videoLength\":15,\"videoTitle\":\"\",\"videoUrl\":1030614334,\"videoId\":1030614334,\"status\":0,\"remark\":\"https://jvod.300hu.com/vod/product/7aff5db8-0dd2-4300-a559-c8fe1b007a77/13cf526c207445fda2e6bdeefe3ed550.mp4?source=2&h265=h265/113393/7e55cebd2435480f8d54abf47c64f0a0.mp4\"}],\"mergeOrderStatus\":2,\"productColor\":\"苍岭绿色\",\"productSize\":\"512GB\",\"textIntegral\":40,\"imageIntegral\":40,\"extMap\":{\"buyCount\":9},\"location\":\"四川\",\"status\":1,\"referenceId\":\"100019718281\",\"referenceTime\":\"2023-03-30 03:33:44\",\"nickname\":\"z***6\",\"replyCount2\":0,\"userImage\":\"storage.360buyimg.com/i.imageUpload/c8cbc0c77a6c31333936363939323337333639_sma.jpg\",\"orderId\":0,\"integral\":80,\"productSales\":\"[{\\\\\"dim\\\\\":3,\\\\\"saleName\\\\\":\\\\\"购买方式\\\\\",\\\\\"saleValue\\\\\":\\\\\"公开版\\\\\"}]\",\"referenceImage\":\"jfs/t1/111899/20/25621/37235/6231b3a0Ef79b8f01/b59706fd5e43e196.jpg\",\"referenceName\":\"Apple iPhone 13 Pro Max (A2644) 128GB 远峰蓝色 支持移动联通电信5G 双卡双待手机\",\"firstCategory\":9987,\"secondCategory\":653,\"thirdCategory\":655,\"aesPin\":null,\"days\":4,\"afterDays\":0},{\"id\":19013328294,\"guid\":\"0042a5a15395da37624b752b765cdfc6\",\"content\":\"外形外观：方方正正的   精致度不错\\\\n屏幕音效：算是第一梯队吧\\\\n拍照效果：可以够用\\\\n运行速度：顺滑\\\\n待机时间：真的够猛 \\\\n其他特色：iOS动画效果真的很爽  软件适配可以的\",\"vcontent\":\"{$%&外形外观：&%$}方方正正的   精致度不错\\\\n{$%&屏幕音效：&%$}算是第一梯队吧\\\\n{$%&拍照效果：&%$}可以够用\\\\n{$%&运行速度：&%$}顺滑\\\\n{$%&待机时间：&%$}真的够猛 \\\\n{$%&其他特色：&%$}iOS动画效果真的很爽  软件适配可以的\",\"creationTime\":\"2023-04-11 18:31:54\",\"isDelete\":false,\"isTop\":false,\"userImageUrl\":\"misc.360buyimg.com/user/myjd-2015/css/i/peisong.jpg\",\"topped\":0,\"replyCount\":0,\"score\":5,\"imageStatus\":1,\"usefulVoteCount\":0,\"userClient\":4,\"discussionId\":1264642283,\"imageCount\":2,\"anonymousFlag\":1,\"plusAvailable\":201,\"mobileVersion\":\"11.8.0\",\"images\":[{\"id\":2105251904,\"imgUrl\":\"//img30.360buyimg.com/n0/s128x96_jfs/t1/186940/4/34530/89055/64353718F5f92402d/5900fb5119b5a3bc.jpg\",\"imgTitle\":\"\",\"status\":0},{\"id\":2105251905,\"imgUrl\":\"//img30.360buyimg.com/n0/s128x96_jfs/t1/21725/36/17688/134012/64353719F0c5e7574/3c0686518c509e22.jpg\",\"imgTitle\":\"\",\"status\":0}],\"mergeOrderStatus\":2,\"productColor\":\"苍岭绿色\",\"productSize\":\"512GB\",\"textIntegral\":40,\"imageIntegral\":40,\"extMap\":{\"buyCount\":3},\"location\":\"湖北\",\"status\":1,\"referenceId\":\"100019718281\",\"referenceTime\":\"2023-03-21 20:55:42\",\"nickname\":\"j***2\",\"replyCount2\":0,\"userImage\":\"misc.360buyimg.com/user/myjd-2015/css/i/peisong.jpg\",\"orderId\":0,\"integral\":80,\"productSales\":\"[{\\\\\"dim\\\\\":3,\\\\\"saleName\\\\\":\\\\\"购买方式\\\\\",\\\\\"saleValue\\\\\":\\\\\"公开版\\\\\"}]\",\"referenceImage\":\"jfs/t1/111899/20/25621/37235/6231b3a0Ef79b8f01/b59706fd5e43e196.jpg\",\"referenceName\":\"Apple iPhone 13 Pro Max (A2644) 128GB 远峰蓝色 支持移动联通电信5G 双卡双待手机\",\"firstCategory\":9987,\"secondCategory\":653,\"thirdCategory\":655,\"aesPin\":null,\"days\":21,\"afterDays\":0},{\"id\":18978327232,\"guid\":\"dcda53d351c473ce5efd23233f20c56f\",\"content\":\"这么一对比苍岭绿看着还不错 很高级的绿 搭配深色的壳子合适 入手皆因热爱 感谢京东  感谢京东客服 感谢京东物流\",\"creationTime\":\"2023-04-02 17:36:38\",\"isDelete\":false,\"isTop\":false,\"userImageUrl\":\"misc.360buyimg.com/user/myjd-2015/css/i/peisong.jpg\",\"topped\":0,\"replyCount\":0,\"score\":5,\"imageStatus\":1,\"usefulVoteCount\":0,\"userClient\":2,\"discussionId\":1260179182,\"imageCount\":2,\"anonymousFlag\":1,\"plusAvailable\":201,\"mobileVersion\":\"11.6.6\",\"images\":[{\"id\":2096622470,\"imgUrl\":\"//img30.360buyimg.com/n0/s128x96_jfs/t1/204201/40/30034/203059/64294ca6Ff8b02a3b/32e896b56bda8d87.jpg\",\"imgTitle\":\"\",\"status\":0},{\"id\":2096622471,\"imgUrl\":\"//img30.360buyimg.com/n0/s128x96_jfs/t1/192804/6/32899/136765/64294ca6Fe71accb5/e8fb1edcd09d9c08.jpg\",\"imgTitle\":\"\",\"status\":0}],\"mergeOrderStatus\":2,\"productColor\":\"苍岭绿色\",\"productSize\":\"512GB\",\"textIntegral\":40,\"imageIntegral\":40,\"extMap\":{\"buyCount\":12},\"location\":\"河北\",\"status\":1,\"referenceId\":\"100019718281\",\"referenceTime\":\"2023-03-29 22:30:07\",\"nickname\":\"心***想\",\"replyCount2\":0,\"userImage\":\"misc.360buyimg.com/user/myjd-2015/css/i/peisong.jpg\",\"orderId\":0,\"integral\":80,\"productSales\":\"[{\\\\\"dim\\\\\":3,\\\\\"saleName\\\\\":\\\\\"购买方式\\\\\",\\\\\"saleValue\\\\\":\\\\\"公开版\\\\\"}]\",\"referenceImage\":\"jfs/t1/111899/20/25621/37235/6231b3a0Ef79b8f01/b59706fd5e43e196.jpg\",\"referenceName\":\"Apple iPhone 13 Pro Max (A2644) 128GB 远峰蓝色 支持移动联通电信5G 双卡双待手机\",\"firstCategory\":9987,\"secondCategory\":653,\"thirdCategory\":655,\"aesPin\":null,\"days\":4,\"afterDays\":0},{\"id\":18912179249,\"guid\":\"c7bffdf78fc8d0def3e50c9d2fb290b0\",\"content\":\"外形外观：13promax的外观非常漂亮，基本上快买不到了，尤其是石墨色很经典，很大气\\\\n屏幕音效：屏幕很顶很舒服很清晰，音效非常好\\\\n拍照效果：有史以来最大的光圈，虽然像素只有1200，不过实际效果非常出色，绝对是第一梯队\\\\n运行速度：永远不用怀疑ios的流畅度\\\\n待机时间：有史以来苹果手机续航最好的手机，没有之一\\\\n其他特色：价格这么顶是有原因，趁着还能买到，真的非常值得买一台，满星推荐！\",\"vcontent\":\"{$%&外形外观：&%$}13promax的外观非常漂亮，基本上快买不到了，尤其是石墨色很经典，很大气\\\\n{$%&屏幕音效：&%$}屏幕很顶很舒服很清晰，音效非常好\\\\n{$%&拍照效果：&%$}有史以来最大的光圈，虽然像素只有1200，不过实际效果非常出色，绝对是第一梯队\\\\n{$%&运行速度：&%$}永远不用怀疑ios的流畅度\\\\n{$%&待机时间：&%$}有史以来苹果手机续航最好的手机，没有之一\\\\n{$%&其他特色：&%$}价格这么顶是有原因，趁着还能买到，真的非常值得买一台，满星推荐！\",\"creationTime\":\"2023-03-18 19:19:02\",\"isDelete\":false,\"isTop\":false,\"userImageUrl\":\"storage.360buyimg.com/i.imageUpload/6a645f3434333066323632326130333731343339313735303038333735_sma.jpg\",\"topped\":0,\"replies\":[],\"replyCount\":1,\"score\":5,\"imageStatus\":1,\"usefulVoteCount\":0,\"userClient\":2,\"discussionId\":1253025112,\"imageCount\":3,\"anonymousFlag\":1,\"plusAvailable\":201,\"mobileVersion\":\"11.6.4\",\"images\":[{\"id\":2082785033,\"imgUrl\":\"//img30.360buyimg.com/n0/s128x96_jfs/t1/144744/2/34404/50080/64159e25F9ebf890c/89234351d848b961.jpg\",\"imgTitle\":\"\",\"status\":0},{\"id\":2082785034,\"imgUrl\":\"//img30.360buyimg.com/n0/s128x96_jfs/t1/111220/22/32616/42236/64159e25F8e4312eb/1364985783404d8e.jpg\",\"imgTitle\":\"\",\"status\":0},{\"id\":2082785035,\"imgUrl\":\"//img30.360buyimg.com/n0/s128x96_jfs/t1/65312/32/25327/61144/64159e25F933c274b/19ef6e92c0cbdba8.jpg\",\"imgTitle\":\"\",\"status\":0}],\"mergeOrderStatus\":2,\"productColor\":\"石墨色\",\"productSize\":\"1TB\",\"textIntegral\":40,\"imageIntegral\":40,\"extMap\":{\"buyCount\":13},\"location\":\"湖南\",\"status\":1,\"referenceId\":\"100014352541\",\"referenceTime\":\"2023-03-12 01:04:11\",\"nickname\":\"一***主\",\"replyCount2\":3,\"userImage\":\"storage.360buyimg.com/i.imageUpload/6a645f3434333066323632326130333731343339313735303038333735_sma.jpg\",\"orderId\":0,\"integral\":80,\"productSales\":\"[{\\\\\"dim\\\\\":3,\\\\\"saleName\\\\\":\\\\\"购买方式\\\\\",\\\\\"saleValue\\\\\":\\\\\"公开版\\\\\"}]\",\"referenceImage\":\"jfs/t1/111899/20/25621/37235/6231b3a0Ef79b8f01/b59706fd5e43e196.jpg\",\"referenceName\":\"Apple iPhone 13 Pro Max (A2644) 128GB 远峰蓝色 支持移动联通电信5G 双卡双待手机\",\"firstCategory\":9987,\"secondCategory\":653,\"thirdCategory\":655,\"aesPin\":null,\"days\":6,\"afterDays\":0},{\"id\":19003443630,\"guid\":\"391b205c3504a19be8b38d911cceaabb\",\"content\":\"外形外观：好看！！！白色永远的yyds，不过黑色应该也挺不错，看大家喜好，手感是真的好，细磨砂。\\\\n屏幕音效：屏幕观感和上代差不多，但是高刷屏带来体验上质的飞跃是比不了的\\\\n拍照效果：1200w拍出来的效果比某些5000w还好\\\\n运行速度：很快，这是ios的优势\\\\n待机时间：非常长，iPhone 13promax的续航是出了名的粗长\\\\n其他特色：苹果手机在京东买值得信赖。\",\"vcontent\":\"外形外观：好看！！！白色永远的yyds，不过黑色应该也挺不错，看大家喜好，手感是真的好，细磨砂。\\\\n屏幕音效：屏幕观感和上代差不多，但是高刷屏带来体验上质的飞跃是比不了的\\\\n拍照效果：1200w拍出来的效果比某些5000w还好\\\\n运行速度：很快，这是ios的优势\\\\n待机时间：非常长，iPhone 13promax的续航是出了名的粗长\\\\n其他特色：苹果手机在京东买值得信赖。\",\"creationTime\":\"2023-04-08 22:04:17\",\"isDelete\":false,\"isTop\":false,\"userImageUrl\":\"misc.360buyimg.com/user/myjd-2015/css/i/peisong.jpg\",\"topped\":0,\"replies\":[{\"id\":1216150150,\"commentId\":19003443630,\"venderId\":0,\"content\":\"尊敬的客户，您好！感谢您对产品的评价，授人玫瑰手有余香，您的满意是对我们最大的支持与鼓励，也是我们不断前进的动力，有您的信赖，我们会做的更好。\",\"pin\":\"Apple产品京东自营旗舰店\",\"userClient\":103,\"userImage\":\"storage.360buyimg.com/i.imageUpload/636163313839373132383835313831363535383032383730363836_sma.jpg\",\"ip\":\"171.113.170.84\",\"productId\":100019718263,\"replyList\":[],\"nickname\":\"Apple产品京东自营旗舰店\",\"creationTime\":\"2023-05-25 20:14:27\",\"parentId\":0,\"targetId\":0,\"venderShopInfo\":{\"id\":1000000127,\"appName\":\"//apple.jd.com/\",\"title\":\"Apple产品京东自营旗舰店\",\"venderId\":1000000127}}],\"replyCount\":1,\"score\":5,\"imageStatus\":1,\"usefulVoteCount\":0,\"userClient\":4,\"discussionId\":1263258743,\"imageCount\":2,\"anonymousFlag\":0,\"plusAvailable\":201,\"mobileVersion\":\"11.0.2\",\"images\":[{\"id\":2102574629,\"imgUrl\":\"//img30.360buyimg.com/n0/s128x96_jfs/t1/120772/3/19610/66082/62d801f3Ed3a6fefa/4691a198292dd9ba.jpg\",\"imgTitle\":\"\",\"status\":0},{\"id\":2102574630,\"imgUrl\":\"//img30.360buyimg.com/n0/s128x96_jfs/t1/142444/9/27731/49602/62d801f4E60bf6f06/3b5da9540580e40e.jpg\",\"imgTitle\":\"\",\"status\":0}],\"mergeOrderStatus\":2,\"productColor\":\"苍岭绿色\",\"productSize\":\"256GB\",\"textIntegral\":20,\"imageIntegral\":20,\"extMap\":{\"buyCount\":1},\"location\":\"广东\",\"status\":1,\"referenceId\":\"100019718263\",\"referenceTime\":\"2023-02-08 15:54:01\",\"nickname\":\"j***n\",\"replyCount2\":1,\"userImage\":\"misc.360buyimg.com/user/myjd-2015/css/i/peisong.jpg\",\"orderId\":0,\"integral\":40,\"productSales\":\"[{\\\\\"dim\\\\\":3,\\\\\"saleName\\\\\":\\\\\"购买方式\\\\\",\\\\\"saleValue\\\\\":\\\\\"公开版\\\\\"}]\",\"referenceImage\":\"jfs/t1/111899/20/25621/37235/6231b3a0Ef79b8f01/b59706fd5e43e196.jpg\",\"referenceName\":\"Apple iPhone 13 Pro Max (A2644) 128GB 远峰蓝色 支持移动联通电信5G 双卡双待手机\",\"firstCategory\":9987,\"secondCategory\":653,\"thirdCategory\":655,\"aesPin\":\"Uxmpoog_nYt2ZV40ZoLohZKg3WBrHW8Z1BG0iMUrw6ZZpQaQa46M-GtfsQfsg3iemp-LKeHhGsjtJoe3tfl31Q\",\"days\":59,\"afterDays\":0},{\"id\":18912827987,\"guid\":\"cc8a08f1d1cc7969ab5d105b53e9f975\",\"content\":\"外形外观：外观硬朗大气\\\\n屏幕音效：屏幕可以说非常完美\\\\n拍照效果：拍照清晰，防抖功能特别好\\\\n运行速度：iOS的系统加上A15处理器展现的非常给力\\\\n待机时间：待机时间特别棒，比14系列还要强\\\\n其他特色：手机确实挺好，一台去年12月30入手512G的，同时两台一模一样的，配置也一样，不知为什么屏幕一个白一个黄。新机完全可以说非常放心使用，两台机子同时使用，另一台用了三个月，电池98%，可以说很好了，总之iPhone做的确实很完美。另外快递非常快，京东自营有保障，，快递员服务态度很好，很有耐心，相信京东\",\"vcontent\":\"{$%&外形外观：&%$}外观硬朗大气\\\\n{$%&屏幕音效：&%$}屏幕可以说非常完美\\\\n{$%&拍照效果：&%$}拍照清晰，防抖功能特别好\\\\n{$%&运行速度：&%$}iOS的系统加上A15处理器展现的非常给力\\\\n{$%&待机时间：&%$}待机时间特别棒，比14系列还要强\\\\n{$%&其他特色：&%$}手机确实挺好，一台去年12月30入手512G的，同时两台一模一样的，配置也一样，不知为什么屏幕一个白一个黄。新机完全可以说非常放心使用，两台机子同时使用，另一台用了三个月，电池98%，可以说很好了，总之iPhone做的确实很完美。另外快递非常快，京东自营有保障，，快递员服务态度很好，很有耐心，相信京东\",\"creationTime\":\"2023-03-18 23:15:01\",\"isDelete\":false,\"isTop\":false,\"userImageUrl\":\"storage.360buyimg.com/i.imageUpload/6a645f3564383733373538643738323131343738393930343539333337_sma.jpg\",\"topped\":0,\"replyCount\":0,\"score\":5,\"imageStatus\":1,\"usefulVoteCount\":0,\"userClient\":4,\"discussionId\":1253133443,\"imageCount\":9,\"anonymousFlag\":1,\"plusAvailable\":201,\"mobileVersion\":\"11.6.4\",\"images\":[{\"id\":2082996123,\"imgUrl\":\"//img30.360buyimg.com/n0/s128x96_jfs/t1/184091/22/25803/70697/6415d56fFf218701f/6e409a27911a2982.jpg\",\"imgTitle\":\"\",\"status\":0},{\"id\":2082996124,\"imgUrl\":\"//img30.360buyimg.com/n0/s128x96_jfs/t1/180061/8/33959/177158/6415d570Fb1ff13d8/72c063b864449e90.jpg\",\"imgTitle\":\"\",\"status\":0},{\"id\":2082996125,\"imgUrl\":\"//img30.360buyimg.com/n0/s128x96_jfs/t1/136215/4/34682/159672/6415d571F2ad9a1b9/e405864213d16092.jpg\",\"imgTitle\":\"\",\"status\":0},{\"id\":2082996126,\"imgUrl\":\"//img30.360buyimg.com/n0/s128x96_jfs/t1/218065/3/26518/103782/6415d571Fe653a948/05a53f3065d33bc7.jpg\",\"imgTitle\":\"\",\"status\":0},{\"id\":2082996127,\"imgUrl\":\"//img30.360buyimg.com/n0/s128x96_jfs/t1/182631/7/33866/51960/6415d572F47c5cc7b/5b82841df9ea79da.jpg\",\"imgTitle\":\"\",\"status\":0},{\"id\":2082996128,\"imgUrl\":\"//img30.360buyimg.com/n0/s128x96_jfs/t1/134681/40/30974/197553/6415d573F55029cfd/f396610d75eb3dbc.jpg\",\"imgTitle\":\"\",\"status\":0},{\"id\":2082996129,\"imgUrl\":\"//img30.360buyimg.com/n0/s128x96_jfs/t1/197350/32/27182/170129/6415d573F2e65c666/cc741eacafe52c61.jpg\",\"imgTitle\":\"\",\"status\":0},{\"id\":2082996130,\"imgUrl\":\"//img30.360buyimg.com/n0/s128x96_jfs/t1/22861/25/12215/239793/6415d574Ff057b0d3/2351f37cd8478ac1.jpg\",\"imgTitle\":\"\",\"status\":0},{\"id\":2082996461,\"imgUrl\":\"//img30.360buyimg.com/n0/s128x96_jfs/t1/62936/29/23689/208739/6415d575Fb48bc41c/c51d025d2c0b558b.jpg\",\"imgTitle\":\"\",\"status\":0}],\"mergeOrderStatus\":2,\"productColor\":\"银色\",\"productSize\":\"512GB\",\"textIntegral\":20,\"imageIntegral\":20,\"extMap\":{\"buyCount\":5},\"location\":\"北京\",\"status\":1,\"referenceId\":\"100026667950\",\"referenceTime\":\"2023-03-18 00:10:18\",\"nickname\":\"龍***子\",\"replyCount2\":0,\"userImage\":\"storage.360buyimg.com/i.imageUpload/6a645f3564383733373538643738323131343738393930343539333337_sma.jpg\",\"orderId\":0,\"integral\":40,\"productSales\":\"[{\\\\\"dim\\\\\":3,\\\\\"saleName\\\\\":\\\\\"购买方式\\\\\",\\\\\"saleValue\\\\\":\\\\\"公开版\\\\\"}]\",\"referenceImage\":\"jfs/t1/111899/20/25621/37235/6231b3a0Ef79b8f01/b59706fd5e43e196.jpg\",\"referenceName\":\"Apple iPhone 13 Pro Max (A2644) 128GB 远峰蓝色 支持移动联通电信5G 双卡双待手机\",\"firstCategory\":9987,\"secondCategory\":653,\"thirdCategory\":655,\"aesPin\":null,\"days\":0,\"afterDays\":0},{\"id\":19022703819,\"guid\":\"ec407c14c55cba02f9383684834bc481\",\"content\":\"除了外包装盒上有一点胶，其他的可以称得上完美。仔细检查过外观，没毛病，开机激活，整个一真香警告。爱了爱了。\",\"creationTime\":\"2023-04-14 21:54:33\",\"isDelete\":false,\"isTop\":false,\"userImageUrl\":\"storage.360buyimg.com/i.imageUpload/6a645f3637343763656162653861653831353437343536373839383334_sma.jpg\",\"topped\":0,\"replies\":[],\"replyCount\":1,\"score\":5,\"imageStatus\":1,\"usefulVoteCount\":0,\"userClient\":4,\"discussionId\":1266208198,\"imageCount\":6,\"anonymousFlag\":1,\"plusAvailable\":201,\"mobileVersion\":\"11.8.0\",\"images\":[{\"id\":2108282316,\"imgUrl\":\"//img30.360buyimg.com/n0/s128x96_jfs/t1/164408/34/30924/61910/64395b15F64c0e26d/4defe8c4d5199101.jpg\",\"imgTitle\":\"\",\"status\":0},{\"id\":2108282317,\"imgUrl\":\"//img30.360buyimg.com/n0/s128x96_jfs/t1/58806/15/24721/49649/64395b16F6ad904a8/48f48d5687edfbb0.jpg\",\"imgTitle\":\"\",\"status\":0},{\"id\":2108282318,\"imgUrl\":\"//img30.360buyimg.com/n0/s128x96_jfs/t1/148215/25/32688/36917/64395b17F178c75b8/b6d60b44197f0dcc.jpg\",\"imgTitle\":\"\",\"status\":0},{\"id\":2108282319,\"imgUrl\":\"//img30.360buyimg.com/n0/s128x96_jfs/t1/183510/37/33671/42438/64395b17Fb52b67e4/82019da3cb7c8a1c.jpg\",\"imgTitle\":\"\",\"status\":0},{\"id\":2108282320,\"imgUrl\":\"//img30.360buyimg.com/n0/s128x96_jfs/t1/107604/22/38390/103295/64395b18F581d6298/2966467b260f7d89.jpg\",\"imgTitle\":\"\",\"status\":0},{\"id\":2108282711,\"imgUrl\":\"//img30.360buyimg.com/n0/s128x96_jfs/t1/89181/25/38443/38355/64395b18F94708cf7/0983177856eedc00.jpg\",\"imgTitle\":\"\",\"status\":0}],\"mergeOrderStatus\":2,\"productColor\":\"苍岭绿色\",\"productSize\":\"512GB\",\"textIntegral\":40,\"imageIntegral\":40,\"extMap\":{\"buyCount\":8},\"location\":\"广东\",\"status\":1,\"referenceId\":\"100019718281\",\"referenceTime\":\"2023-04-08 10:26:00\",\"nickname\":\"兰***人\",\"replyCount2\":1,\"userImage\":\"storage.360buyimg.com/i.imageUpload/6a645f3637343763656162653861653831353437343536373839383334_sma.jpg\",\"orderId\":0,\"integral\":80,\"productSales\":\"[{\\\\\"dim\\\\\":3,\\\\\"saleName\\\\\":\\\\\"购买方式\\\\\",\\\\\"saleValue\\\\\":\\\\\"公开版\\\\\"}]\",\"referenceImage\":\"jfs/t1/111899/20/25621/37235/6231b3a0Ef79b8f01/b59706fd5e43e196.jpg\",\"referenceName\":\"Apple iPhone 13 Pro Max (A2644) 128GB 远峰蓝色 支持移动联通电信5G 双卡双待手机\",\"firstCategory\":9987,\"secondCategory\":653,\"thirdCategory\":655,\"aesPin\":null,\"days\":6,\"afterDays\":0},{\"id\":18956756076,\"guid\":\"e0e70de457812b7291f1c7151fc4d28a\",\"content\":\"用了几个月了，没有什么问题，除了刚开始，微信信息不提示不弹出，还是自己删掉了所有专注模式之类解决的，按照客服的说升级版本，一系列操作并没有什么用，微信收取中最鸡肋，这一点是通病吧，没办法，其他系统流畅，拍照也挺好，对于我来说，可以了，就是想买pro的，可是没有现货，停产了，买了max，单手操作比较不友好，其他挺好，大屏幕，也有它的好嘛，操作习惯了都，不去拿6.1的就好，每次拿了6.1的再拿我的，就会有点大，哈哈哈?音效比我之前的手机好，我喜欢它的设计，反正我喜欢，第一台苹果，现在一台安卓，一台苹果，挺好！\",\"creationTime\":\"2023-03-29 11:40:01\",\"isDelete\":false,\"isTop\":false,\"userImageUrl\":\"storage.360buyimg.com/i.imageUpload/71696e79756e676731363633323935323137303734_sma.jpg\",\"topped\":0,\"replyCount\":0,\"score\":5,\"imageStatus\":1,\"usefulVoteCount\":0,\"userClient\":2,\"discussionId\":1258096628,\"imageCount\":6,\"anonymousFlag\":1,\"plusAvailable\":201,\"mobileVersion\":\"11.6.4\",\"images\":[{\"id\":2092584671,\"imgUrl\":\"//img30.360buyimg.com/n0/s128x96_jfs/t1/137717/31/34261/92242/6423b311F106f316f/8ae8178cedfca9e4.jpg\",\"imgTitle\":\"\",\"status\":0},{\"id\":2092584672,\"imgUrl\":\"//img30.360buyimg.com/n0/s128x96_jfs/t1/210218/22/30891/101146/6423b311F1d4a6c01/318d337524ed51a3.jpg\",\"imgTitle\":\"\",\"status\":0},{\"id\":2092584673,\"imgUrl\":\"//img30.360buyimg.com/n0/s128x96_jfs/t1/174965/31/35027/85503/6423b311F27d3e6b1/27e75345c43b451a.jpg\",\"imgTitle\":\"\",\"status\":0},{\"id\":2092584674,\"imgUrl\":\"//img30.360buyimg.com/n0/s128x96_jfs/t1/211686/17/27605/104000/6423b311F2734d2c5/2531fbf5f7e0ac19.jpg\",\"imgTitle\":\"\",\"status\":0},{\"id\":2092584675,\"imgUrl\":\"//img30.360buyimg.com/n0/s128x96_jfs/t1/145368/13/31426/43571/6423b311F14dc0876/463ea799d1a37ba9.jpg\",\"imgTitle\":\"\",\"status\":0},{\"id\":2092584676,\"imgUrl\":\"//img30.360buyimg.com/n0/s128x96_jfs/t1/62671/8/23925/214102/6423b311Ff16bf046/2eff1dd63687cc88.jpg\",\"imgTitle\":\"\",\"status\":0}],\"mergeOrderStatus\":2,\"productColor\":\"银色\",\"productSize\":\"512GB\",\"textIntegral\":20,\"imageIntegral\":20,\"extMap\":{\"buyCount\":2},\"location\":\"广东\",\"status\":1,\"referenceId\":\"100026667950\",\"referenceTime\":\"2023-01-31 00:08:26\",\"nickname\":\"摩***呀\",\"replyCount2\":0,\"userImage\":\"storage.360buyimg.com/i.imageUpload/71696e79756e676731363633323935323137303734_sma.jpg\",\"orderId\":0,\"integral\":40,\"productSales\":\"[{\\\\\"dim\\\\\":3,\\\\\"saleName\\\\\":\\\\\"购买方式\\\\\",\\\\\"saleValue\\\\\":\\\\\"公开版\\\\\"}]\",\"referenceImage\":\"jfs/t1/111899/20/25621/37235/6231b3a0Ef79b8f01/b59706fd5e43e196.jpg\",\"referenceName\":\"Apple iPhone 13 Pro Max (A2644) 128GB 远峰蓝色 支持移动联通电信5G 双卡双待手机\",\"firstCategory\":9987,\"secondCategory\":653,\"thirdCategory\":655,\"aesPin\":null,\"days\":57,\"afterDays\":0}],\"soType\":5,\"csv\":\"eid=100^^tagid=ALL^^pid=20001^^sku=100026667928^^sversion=1001^^pageSize=1\",\"imageListCount\":500,\"hotCommentTagStatistics\":[],\"testId\":\"cmt\",\"vTagStatistics\":null,\"maxPage\":100,\"productCommentSummary\":{\"skuId\":100026667928,\"averageScore\":5,\"defaultGoodCount\":0,\"defaultGoodCountStr\":\"50万+\",\"commentCount\":0,\"commentCountStr\":\"100万+\",\"goodCount\":0,\"goodCountStr\":\"22万+\",\"goodRate\":0.97,\"goodRateShow\":97,\"generalCount\":0,\"generalCountStr\":\"1800+\",\"generalRate\":0.007,\"generalRateShow\":1,\"poorCount\":0,\"poorCountStr\":\"3900+\",\"poorRate\":0.023,\"poorRateShow\":2,\"videoCount\":0,\"videoCountStr\":\"3600+\",\"afterCount\":0,\"afterCountStr\":\"4300+\",\"showCount\":0,\"showCountStr\":\"4.8万+\",\"oneYear\":0,\"sensitiveBook\":0,\"fixCount\":0,\"plusCount\":0,\"plusCountStr\":\"0\",\"buyerShow\":0,\"poorRateStyle\":4,\"generalRateStyle\":1,\"goodRateStyle\":145,\"installRate\":0,\"productId\":100026667928,\"score1Count\":2000,\"score2Count\":500,\"score3Count\":1000,\"score4Count\":2000,\"score5Count\":200000},\"productAttr\":null});'"
      ]
     },
     "execution_count": 4,
     "metadata": {},
     "output_type": "execute_result"
    }
   ],
   "source": [
    "rq.text "
   ]
  },
  {
   "cell_type": "code",
   "execution_count": 5,
   "metadata": {
    "ExecuteTime": {
     "end_time": "2023-06-18T12:00:35.815170Z",
     "start_time": "2023-06-18T12:00:35.810917Z"
    }
   },
   "outputs": [],
   "source": [
    "# 需要剔除的字符串长度\n",
    "a = len('fetchJSON_comment98(')\n",
    "# 提取字典格式{}的str类型数据\n",
    "tmp = html[a:-2]\n",
    "# 转换为字典\n",
    "text = json.loads(tmp)"
   ]
  },
  {
   "cell_type": "code",
   "execution_count": 6,
   "metadata": {
    "ExecuteTime": {
     "end_time": "2023-06-18T12:00:56.626009Z",
     "start_time": "2023-06-18T12:00:56.608334Z"
    }
   },
   "outputs": [],
   "source": [
    "# 需要剔除的字符串长度\n",
    "a = len('fetchJSON_comment98(')\n",
    "# 提取字典格式{}的str类型数据\n",
    "tmp = html[a:-2]\n",
    "# 转换为字典\n",
    "text = json.loads(tmp)\n",
    "\n",
    "# 提取数据\n",
    "comments = text['comments']\n",
    "content = [i['content'] for i in comments]  # 评论文本\n",
    "creationTime = [i['creationTime'] for i in comments]  # 评论时间\n",
    "score = [i['score'] for i in comments]  # 评分\n",
    "userClient = [i['userClient'] for i in comments]  # 设备类型\n",
    "productColor = [i['productColor'] for i in comments]  # 商品颜色\n",
    "productSize = [i['productSize'] for i in comments]  # 商品规格\n",
    "referenceTime = [i['referenceTime'] for i in comments]  # 购买时间\n",
    "nickname = [i['nickname'] for i in comments]  # 用户昵称\n",
    "days = [i['days'] for i in comments]  # 付款到写评论间隔天数\n",
    "# 整理数据\n",
    "data = pd.DataFrame({'content':content,\n",
    "             'creationTime':creationTime,\n",
    "             'score':score,\n",
    "             'userClient':userClient,\n",
    "             'productColor':productColor,\n",
    "             'productSize':productSize,\n",
    "             'referenceTime':referenceTime,\n",
    "             'nickname':nickname,\n",
    "             'days':days})"
   ]
  },
  {
   "cell_type": "markdown",
   "metadata": {},
   "source": [
    "- 多页"
   ]
  },
  {
   "cell_type": "code",
   "execution_count": 13,
   "metadata": {
    "ExecuteTime": {
     "end_time": "2022-11-11T06:14:54.799982Z",
     "start_time": "2022-11-11T06:14:54.795981Z"
    }
   },
   "outputs": [
    {
     "data": {
      "text/plain": [
       "0"
      ]
     },
     "execution_count": 13,
     "metadata": {},
     "output_type": "execute_result"
    }
   ],
   "source": [
    "np.random.randint(0, 2, 1)[0]"
   ]
  },
  {
   "cell_type": "code",
   "execution_count": 14,
   "metadata": {
    "ExecuteTime": {
     "end_time": "2022-11-11T02:45:41.095911Z",
     "start_time": "2022-11-11T02:45:41.075907Z"
    }
   },
   "outputs": [],
   "source": [
    "def spider(page=0, score=0, pid=100026667928):\n",
    "    '''\n",
    "    向iphone13京东评论网址发送请求并返回响应内容\n",
    "    :param page：第几页评论，默认第0页\n",
    "    :param score：评论类别（3代表好评，2代表中评，1代表差评，5代表追评，0代表全部评论（默认排序），4代表全部评论（时间排序））\n",
    "    :return 响应内容\n",
    "    '''\n",
    "    # 网址\n",
    "    url = 'https://club.jd.com/comment/productPageComments.action'\n",
    "    # 网址参数\n",
    "    params = {'callback':'fetchJSON_comment98',\n",
    "              'productId':pid, # 100026667882, 100042692863, 100038004353\n",
    "              'score':score,\n",
    "              'sortType':5,\n",
    "              'page':page,\n",
    "              'pageSize':10,\n",
    "              'isShadowSku':0,\n",
    "              'fold':1}\n",
    "\n",
    "    # 请求头\n",
    "    headers0 = {\n",
    "                'cookie': 'shshshfpa=7b918238-34b8-026b-491f-e5f2a69b81e4-1657726197; shshshfpb=pul42r4Dm5lZ_4tHDS8TTPA; __jdu=16577261972891853736153; unpl=JF8EAMlnNSttXhsDVRxVGRsWSQ5TW1QISkcBO2BRBwlbTFZQGlFPQBR7XlVdXhRKHh9sbxRVVVNLUg4aASsSEXteXVdZDEsWC2tXVgQFDQ8VXURJQlZAFDNVCV9dSRZRZjJWBFtdT1xWSAYYRRMfDlAKDlhCR1FpMjVkXlh7VAQrAhwWFk1eU15VDkgeC29uAVZbWkxUARkyKxUge21WW14JShczblcEZB8MF1cCEgcSEl1LWlBYWwtMFwtpZAxcXVFPVgMZBRsWEntcZF0; __jdv=76161171|baidu-pinzhuan|t_288551095_baidupinzhuan|cpc|0f3d30c8dba7459bb52f2eb5eba8ac7d_0_7afa6f3873b64810a3e6ebe263d0bec5|1661735824376; PCSYCityID=CN_440000_440100_0; __jdc=122270672; shshshfp=cce6050cebd1cf09b0476c089d4e09c9; areaId=19; ip_cityCode=1601; ipLoc-djd=19-1601-50258-51885; jwotest_product=99; JSESSIONID=9219BAA69E1066B07E3E580ABC2C7B5E.s1; token=39147539f5c6616cb2439e091e152d2d,2,923198; __tk=74df87e8c467e8dae0d0474f60e62cb5,2,923198; shshshsID=308fe50bda5f7a72a2d933ec93e32d1d_1_1661756844719; __jda=122270672.16577261972891853736153.1657726197.1661735824.1661756845.8; __jdb=122270672.1.16577261972891853736153|8.1661756845; 3AB9D23F7A4B3C9B=K7ZTJGVLTXXDAAZAVRVWHQRGXEPKGTZUC2WOXU77M4DIFJYWRGGEGL5EKRCQZTZPY6GBGK4OWTEKEVM6ENLXNDR7HE',\n",
    "                'user-agent': 'Mozilla/5.0 (Windows NT 10.0; Win64; x64) AppleWebKit/537.36 (KHTML, like Gecko) Chrome/99.0.4844.51 Safari/537.36'\n",
    "              }\n",
    "    headers1 = {'cookie': 'pinId=njK_vnzd4wQ; __jdu=163575964645072861167; shshshfpa=6bec510f-4d07-e115-8bc5-7331e3c90ee9-1635759648; shshshfpb=t7X6EMkKOeC%2FRqaZxpQzX2A%3D%3D; pin=Eny%E6%B6%99; unick=Eny%E6%B6%99; _tp=JwHg1NoXl%2BeLR6GcS2AEog%3D%3D; _pst=Eny%E6%B6%99; user-key=ac85fef8-098a-40bf-ba2d-69c4b69aa197; ipLocation=%u5e7f%u4e1c; TrackID=1eULG1_e_Xeznr66XaeV-h5y1RCbDs1Di6KNKyLPYeeNEGSja36rk1d85uLuSnX5pqIGnpmscasyQChFv9IuqOQPpeRneOMyVxgX5K9BWPwc; unpl=JF8EAJ1nAGQiaE5VABtQSUVCSF1WXFhfShVQbzNRVg5YG1YFGgAYERgfbVdfXgtXFgpzZAFFXVlAVwMQAR4iEEhtVF9cC0sWA21iB2RtaEhUNRoyGxUST1tQVloNTBIHbmEGXVpYS1MDKzIcEhl7bWReXg1JEgBfZjVUVV9IVAMZAR8XIAAzVRNdD0kTBWtvAlFaXU9VAxgLHBIQTFtkX20L; __jdv=76161171|kong|t_1002101343_|tuiguang|4041ccfc21334f03b1ee3b1a3103229e|1661394446319; PCSYCityID=CN_440000_440100_0; shshshfp=8accfdb7deda12660965982525d3c370; jsavif=0; __jda=122270672.163575964645072861167.1635759646.1661394446.1661757182.20; __jdc=122270672; areaId=19; ip_cityCode=1601; ipLoc-djd=19-1601-50258-51885; 3AB9D23F7A4B3C9B=6Q67OCWRJWUSTSJHXDJRM64ED5APNYBQ5KCU6C6PBL5IYSKNENZ7ZUG6A5G5DV6BEI4ZWM27EWEWZ24V44GSJCCGYE; token=5bb0755a790ee1ca0fa1deab2d37a7c3,2,923198; __tk=2w1F1AaE2wxDrzqn2YWXqUsnqU2WKcTY1zM3qwx5qAS5ru2Xqz2s1M,2,923198; shshshsID=43e0d2ac56e5b938d1757b56bf8ceab3_2_1661757212383; __jdb=122270672.2.163575964645072861167|20.1661757182',\n",
    "                'user-agent': 'Mozilla/5.0 (Windows NT 10.0; WOW64) AppleWebKit/537.36 (KHTML, like Gecko) Chrome/80.0.3987.87 Safari/537.36 SE 2.X MetaSr 1.0'        \n",
    "    }  \n",
    "    headers = [headers0, headers1]  # 每次执行爬取操作时，任选一个headers，以免被反爬\n",
    "    # 发送请求\n",
    "    rq = requests.get(url, headers=headers[np.random.randint(0, 2, 1)[0]], params=params)  # 京东网站有User-Agent反爬\n",
    "    html = rq.text  # 返回的是json文件\n",
    "    return html"
   ]
  },
  {
   "cell_type": "code",
   "execution_count": null,
   "metadata": {},
   "outputs": [],
   "source": [
    "fetchJSON_comment98( {} )"
   ]
  },
  {
   "cell_type": "code",
   "execution_count": 15,
   "metadata": {
    "ExecuteTime": {
     "end_time": "2022-11-11T02:45:52.538254Z",
     "start_time": "2022-11-11T02:45:52.521258Z"
    }
   },
   "outputs": [],
   "source": [
    "def deal(html):\n",
    "    '''\n",
    "    从JSON文件内容提取评论数据\n",
    "    :param html：响应内容\n",
    "    :return：评论数据\n",
    "    '''\n",
    "    # 需要剔除的字符串长度\n",
    "    a = len('fetchJSON_comment98(')\n",
    "    # 提取字典格式{}的str类型数据\n",
    "    tmp = html[a:-2]\n",
    "    # 转换为字典\n",
    "    text = json.loads(tmp)\n",
    "\n",
    "    # 提取数据\n",
    "    comments = text['comments']\n",
    "    content = [i['content'] for i in comments]  # 评论文本\n",
    "    creationTime = [i['creationTime'] for i in comments]  # 评论时间\n",
    "    score = [i['score'] for i in comments]  # 评分\n",
    "    userClient = [i['userClient'] for i in comments]  # 设备类型\n",
    "    productColor = [i['productColor'] for i in comments]  # 商品颜色\n",
    "    productSize = [i['productSize'] for i in comments]  # 商品规格\n",
    "    referenceTime = [i['referenceTime'] for i in comments]  # 购买时间\n",
    "    nickname = [i['nickname'] for i in comments]  # 用户昵称\n",
    "    days = [i['days'] for i in comments]  # 付款到写评论间隔天数\n",
    "    # 整理数据\n",
    "    data = pd.DataFrame({'content':content,\n",
    "                 'creationTime':creationTime,\n",
    "                 'score':score,\n",
    "                 'userClient':userClient,\n",
    "                 'productColor':productColor,\n",
    "                 'productSize':productSize,\n",
    "                 'referenceTime':referenceTime,\n",
    "                 'nickname':nickname,\n",
    "                 'days':days})\n",
    "    return data"
   ]
  },
  {
   "cell_type": "code",
   "execution_count": 16,
   "metadata": {
    "ExecuteTime": {
     "end_time": "2022-11-11T02:57:22.343574Z",
     "start_time": "2022-11-11T02:46:01.505271Z"
    }
   },
   "outputs": [
    {
     "name": "stdout",
     "output_type": "stream",
     "text": [
      "正在爬取100052419689评论类别为7的第99页...爬取完成！！！\n"
     ]
    }
   ],
   "source": [
    "all_data = pd.DataFrame()  # 用于存储所有数据\n",
    "for pid in [100026667928,100026667882, 100042692863, 100038004353,100052419689]:\n",
    "    for s in [0, 1, 2, 3, 4 ,5 ,7]:\n",
    "        for p in range(100):\n",
    "            print(f'\\r正在爬取{pid}评论类别为{s}的第{p}页...', end='', flush=True)\n",
    "            try:\n",
    "                # 发送请求\n",
    "                html = spider(page=p, score=s, pid=pid)\n",
    "                # json格式转换以及数据提取\n",
    "                data = deal(html)\n",
    "                all_data = pd.concat([all_data, data])\n",
    "                time.sleep(np.random.random()*2)  # 暂停2秒\n",
    "            except:\n",
    "                print(f'{pid}-{s}-{p}页error...')\n",
    "print('爬取完成！！！')"
   ]
  },
  {
   "cell_type": "code",
   "execution_count": 17,
   "metadata": {},
   "outputs": [
    {
     "name": "stdout",
     "output_type": "stream",
     "text": [
      "(18351, 9)\n",
      "(12636, 9)\n"
     ]
    }
   ],
   "source": [
    "print(all_data.shape)\n",
    "all_data2 = all_data.drop_duplicates(keep='first')\n",
    "print(all_data2.shape)\n"
   ]
  },
  {
   "cell_type": "code",
   "execution_count": 20,
   "metadata": {
    "ExecuteTime": {
     "end_time": "2022-11-11T03:48:45.260861Z",
     "start_time": "2022-11-11T03:48:45.223103Z"
    }
   },
   "outputs": [
    {
     "data": {
      "text/plain": [
       "(12636, 9)"
      ]
     },
     "execution_count": 20,
     "metadata": {},
     "output_type": "execute_result"
    }
   ],
   "source": [
    "# 存储到本地\n",
    "all_data2.to_csv('./iphone13.csv', index=False, encoding='utf8',header=True)\n",
    "all_data2.shape"
   ]
  },
  {
   "cell_type": "code",
   "execution_count": null,
   "metadata": {},
   "outputs": [],
   "source": []
  }
 ],
 "metadata": {
  "hide_input": false,
  "kernelspec": {
   "display_name": "Python 3 (ipykernel)",
   "language": "python",
   "name": "python3"
  },
  "language_info": {
   "codemirror_mode": {
    "name": "ipython",
    "version": 3
   },
   "file_extension": ".py",
   "mimetype": "text/x-python",
   "name": "python",
   "nbconvert_exporter": "python",
   "pygments_lexer": "ipython3",
   "version": "3.9.13"
  },
  "toc": {
   "base_numbering": 1,
   "nav_menu": {},
   "number_sections": true,
   "sideBar": true,
   "skip_h1_title": false,
   "title_cell": "Table of Contents",
   "title_sidebar": "Contents",
   "toc_cell": false,
   "toc_position": {},
   "toc_section_display": true,
   "toc_window_display": false
  },
  "varInspector": {
   "cols": {
    "lenName": 16,
    "lenType": 16,
    "lenVar": 40
   },
   "kernels_config": {
    "python": {
     "delete_cmd_postfix": "",
     "delete_cmd_prefix": "del ",
     "library": "var_list.py",
     "varRefreshCmd": "print(var_dic_list())"
    },
    "r": {
     "delete_cmd_postfix": ") ",
     "delete_cmd_prefix": "rm(",
     "library": "var_list.r",
     "varRefreshCmd": "cat(var_dic_list()) "
    }
   },
   "types_to_exclude": [
    "module",
    "function",
    "builtin_function_or_method",
    "instance",
    "_Feature"
   ],
   "window_display": false
  }
 },
 "nbformat": 4,
 "nbformat_minor": 2
}
